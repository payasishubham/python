{
 "cells": [
  {
   "cell_type": "code",
   "execution_count": 1,
   "id": "8459b864",
   "metadata": {},
   "outputs": [
    {
     "name": "stdout",
     "output_type": "stream",
     "text": [
      "hello world\n"
     ]
    }
   ],
   "source": [
    "print(\"hello world\")"
   ]
  },
  {
   "cell_type": "code",
   "execution_count": 2,
   "id": "bd5d7df1",
   "metadata": {},
   "outputs": [
    {
     "ename": "NameError",
     "evalue": "name 'Print' is not defined",
     "output_type": "error",
     "traceback": [
      "\u001b[1;31m---------------------------------------------------------------------------\u001b[0m",
      "\u001b[1;31mNameError\u001b[0m                                 Traceback (most recent call last)",
      "Cell \u001b[1;32mIn[2], line 1\u001b[0m\n\u001b[1;32m----> 1\u001b[0m \u001b[43mPrint\u001b[49m(\u001b[38;5;124m\"\u001b[39m\u001b[38;5;124mhello world\u001b[39m\u001b[38;5;124m\"\u001b[39m)\n",
      "\u001b[1;31mNameError\u001b[0m: name 'Print' is not defined"
     ]
    }
   ],
   "source": [
    "Print(\"hello world\")"
   ]
  },
  {
   "cell_type": "code",
   "execution_count": 3,
   "id": "6ea5c5e3",
   "metadata": {},
   "outputs": [
    {
     "ename": "SyntaxError",
     "evalue": "invalid syntax. Perhaps you forgot a comma? (2497053111.py, line 1)",
     "output_type": "error",
     "traceback": [
      "\u001b[1;36m  Cell \u001b[1;32mIn[3], line 1\u001b[1;36m\u001b[0m\n\u001b[1;33m    print(hello world)\u001b[0m\n\u001b[1;37m          ^\u001b[0m\n\u001b[1;31mSyntaxError\u001b[0m\u001b[1;31m:\u001b[0m invalid syntax. Perhaps you forgot a comma?\n"
     ]
    }
   ],
   "source": [
    "print(hello world)"
   ]
  },
  {
   "cell_type": "code",
   "execution_count": 4,
   "id": "7a46f8f1",
   "metadata": {},
   "outputs": [
    {
     "name": "stdout",
     "output_type": "stream",
     "text": [
      "10\n"
     ]
    }
   ],
   "source": [
    "print(10)"
   ]
  },
  {
   "cell_type": "markdown",
   "id": "2706d3cf",
   "metadata": {},
   "source": [
    "print(10.7)"
   ]
  },
  {
   "cell_type": "markdown",
   "id": "75b91c7d",
   "metadata": {},
   "source": [
    "###;eetethy5u37ite76rtg"
   ]
  },
  {
   "cell_type": "markdown",
   "id": "4147a3fa",
   "metadata": {},
   "source": [
    "####;dfiuhkshujuiosuj"
   ]
  },
  {
   "cell_type": "markdown",
   "id": "8ab98ed3",
   "metadata": {},
   "source": [
    "## kjjshdgjkhgjk"
   ]
  },
  {
   "cell_type": "markdown",
   "id": "773963e9",
   "metadata": {},
   "source": [
    "### jhfdoigiodhuiogdh"
   ]
  },
  {
   "cell_type": "markdown",
   "id": "2b6d9ddd",
   "metadata": {},
   "source": [
    "#### kjghuogifouhm"
   ]
  },
  {
   "cell_type": "markdown",
   "id": "567eb20f",
   "metadata": {},
   "source": [
    "# gsdhgksjhsi"
   ]
  },
  {
   "cell_type": "markdown",
   "id": "37bfbc5d",
   "metadata": {},
   "source": [
    "name=data"
   ]
  },
  {
   "cell_type": "code",
   "execution_count": 9,
   "id": "da7f12e9",
   "metadata": {},
   "outputs": [
    {
     "ename": "NameError",
     "evalue": "name 'data' is not defined",
     "output_type": "error",
     "traceback": [
      "\u001b[1;31m---------------------------------------------------------------------------\u001b[0m",
      "\u001b[1;31mNameError\u001b[0m                                 Traceback (most recent call last)",
      "Cell \u001b[1;32mIn[9], line 1\u001b[0m\n\u001b[1;32m----> 1\u001b[0m name\u001b[38;5;241m=\u001b[39m\u001b[43mdata\u001b[49m\n",
      "\u001b[1;31mNameError\u001b[0m: name 'data' is not defined"
     ]
    }
   ],
   "source": [
    "name=data"
   ]
  },
  {
   "cell_type": "markdown",
   "id": "aa70bbed",
   "metadata": {},
   "source": [
    "name=\"data\""
   ]
  },
  {
   "cell_type": "code",
   "execution_count": 10,
   "id": "41c83163",
   "metadata": {},
   "outputs": [
    {
     "data": {
      "text/plain": [
       "'data'"
      ]
     },
     "execution_count": 10,
     "metadata": {},
     "output_type": "execute_result"
    }
   ],
   "source": [
    "name=\"data\"\n",
    "name"
   ]
  },
  {
   "cell_type": "markdown",
   "id": "c2444c3c",
   "metadata": {},
   "source": [
    "name1=\"data\"\n",
    "name1"
   ]
  },
  {
   "cell_type": "code",
   "execution_count": 11,
   "id": "3fe14698",
   "metadata": {},
   "outputs": [
    {
     "data": {
      "text/plain": [
       "bool"
      ]
     },
     "execution_count": 11,
     "metadata": {},
     "output_type": "execute_result"
    }
   ],
   "source": [
    "z=True\n",
    "type(z)"
   ]
  },
  {
   "cell_type": "markdown",
   "id": "1866b53b",
   "metadata": {},
   "source": [
    "x=10\n",
    "type(x)\n",
    "x"
   ]
  },
  {
   "cell_type": "code",
   "execution_count": 13,
   "id": "40065e0b",
   "metadata": {},
   "outputs": [
    {
     "data": {
      "text/plain": [
       "10"
      ]
     },
     "execution_count": 13,
     "metadata": {},
     "output_type": "execute_result"
    }
   ],
   "source": [
    "x,y=10,20\n",
    "y\n",
    "x"
   ]
  },
  {
   "cell_type": "code",
   "execution_count": null,
   "id": "52cee20e",
   "metadata": {},
   "outputs": [],
   "source": [
    "###shubhampayasi\n",
    "###\n",
    "###25\n",
    "###"
   ]
  }
 ],
 "metadata": {
  "kernelspec": {
   "display_name": "Python 3 (ipykernel)",
   "language": "python",
   "name": "python3"
  },
  "language_info": {
   "codemirror_mode": {
    "name": "ipython",
    "version": 3
   },
   "file_extension": ".py",
   "mimetype": "text/x-python",
   "name": "python",
   "nbconvert_exporter": "python",
   "pygments_lexer": "ipython3",
   "version": "3.10.9"
  }
 },
 "nbformat": 4,
 "nbformat_minor": 5
}
